{
 "cells": [
  {
   "cell_type": "code",
   "execution_count": 1,
   "metadata": {},
   "outputs": [
    {
     "name": "stdout",
     "output_type": "stream",
     "text": [
      "Waiting for a Spark session to start...\n",
      "Spark Initialization Done! ApplicationId = app-20190526150921-0000\n",
      "KERNEL_ID = 61d30e22-7b44-48dd-afb8-3515c7b0cc45\n"
     ]
    }
   ],
   "source": [
    "#Below is an illustration on how to fire sql queries using apache spark's api\n",
    "\n",
    "from pyspark.sql import SparkSession\n",
    "from pyspark.sql import SQLContext\n",
    "from pyspark.sql import Row\n",
    "spark = SparkSession.builder.getOrCreate()\n",
    "sqlContext = SQLContext(sc)\n",
    "house = [('Living_Room',25),('Bed_Room',22),('Kitchen',20),('Bathroom',11)]\n",
    "rdd = sc.parallelize(house)\n",
    "House = rdd.map(lambda x: Row(room=x[0], areasqm=int(x[1])))\n",
    "schemaHouse = sqlContext.createDataFrame(House)\n",
    "schemaHouse.createOrReplaceTempView('house')\n"
   ]
  },
  {
   "cell_type": "code",
   "execution_count": 2,
   "metadata": {},
   "outputs": [
    {
     "data": {
      "text/plain": [
       "11"
      ]
     },
     "execution_count": 2,
     "metadata": {},
     "output_type": "execute_result"
    }
   ],
   "source": [
    "#returns the minimum areasqm\n",
    "def MinValue (df,spark): \n",
    "    return spark.sql(\"SELECT MIN(areasqm) as minarea from house\").first().minarea\n",
    "MinValue(House,spark)"
   ]
  },
  {
   "cell_type": "code",
   "execution_count": 3,
   "metadata": {},
   "outputs": [
    {
     "data": {
      "text/plain": [
       "25"
      ]
     },
     "execution_count": 3,
     "metadata": {},
     "output_type": "execute_result"
    }
   ],
   "source": [
    "#returns the maximum areasqm\n",
    "def MaxValue (df,spark): \n",
    "    return spark.sql(\"SELECT MAX(areasqm) as maxarea from house\").first().maxarea\n",
    "MaxValue(House,spark)"
   ]
  },
  {
   "cell_type": "code",
   "execution_count": 9,
   "metadata": {},
   "outputs": [
    {
     "data": {
      "text/plain": [
       "19.5"
      ]
     },
     "execution_count": 9,
     "metadata": {},
     "output_type": "execute_result"
    }
   ],
   "source": [
    "#returns the mean areasqm\n",
    "def MeanValue(df,spark):\n",
    "    return spark.sql(\"SELECT Avg(areasqm) as avg from house\").first().avg\n",
    "MeanValue(House,spark)"
   ]
  },
  {
   "cell_type": "code",
   "execution_count": 12,
   "metadata": {},
   "outputs": [
    {
     "data": {
      "text/plain": [
       "5.220153254455275"
      ]
     },
     "execution_count": 12,
     "metadata": {},
     "output_type": "execute_result"
    }
   ],
   "source": [
    "#calculate standard deviation of the areasqm\n",
    "def sdTemperature(df,spark):\n",
    "    return spark.sql(\"SELECT stddev_pop(areasqm) as sdarea from house\").first().sdarea\n",
    "sdTemperature(House,spark)"
   ]
  },
  {
   "cell_type": "code",
   "execution_count": 15,
   "metadata": {},
   "outputs": [
    {
     "data": {
      "text/plain": [
       "-0.7592311104872246"
      ]
     },
     "execution_count": 15,
     "metadata": {},
     "output_type": "execute_result"
    }
   ],
   "source": [
    "#returns the Skewness of the areasqm\n",
    "\n",
    "def skewArea(df, spark):\n",
    "    \n",
    "    return spark.sql(\"\"\"\n",
    "SELECT \n",
    "    (\n",
    "        1/COUNT(areasqm)\n",
    "    ) *\n",
    "    SUM (\n",
    "        POWER(areasqm-%s,3)/POWER(%s,3)\n",
    "    )\n",
    "\n",
    "as skarea from house\n",
    "                    \"\"\" %(MeanValue(House,spark),sdTemperature(House,spark))).first().skarea\n",
    "skewArea(House,spark)"
   ]
  },
  {
   "cell_type": "code",
   "execution_count": 16,
   "metadata": {},
   "outputs": [
    {
     "data": {
      "text/plain": [
       "2.0786970793704227"
      ]
     },
     "execution_count": 16,
     "metadata": {},
     "output_type": "execute_result"
    }
   ],
   "source": [
    "#returns the Kurtosis of the areasqm\n",
    "\n",
    "def kurtosisArea(df,spark):    \n",
    "        return spark.sql(\"\"\"\n",
    "SELECT \n",
    "    (\n",
    "        1/ COUNT(areasqm)\n",
    "    ) *\n",
    "    SUM (\n",
    "        POWER(areasqm-%s,4)/POWER(%s,4)\n",
    "    )\n",
    "as karea from house\n",
    "                    \"\"\" %(MeanValue(House,spark),sdTemperature(House,spark))).first().karea\n",
    "kurtosisArea(House,spark)"
   ]
  }
 ],
 "metadata": {
  "kernelspec": {
   "display_name": "Python 3.5 with Spark",
   "language": "python3",
   "name": "python3"
  },
  "language_info": {
   "codemirror_mode": {
    "name": "ipython",
    "version": 3
   },
   "file_extension": ".py",
   "mimetype": "text/x-python",
   "name": "python",
   "nbconvert_exporter": "python",
   "pygments_lexer": "ipython3",
   "version": "3.5.4"
  }
 },
 "nbformat": 4,
 "nbformat_minor": 1
}
