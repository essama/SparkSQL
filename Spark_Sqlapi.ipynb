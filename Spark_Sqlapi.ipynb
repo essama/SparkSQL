{
 "cells": [
  {
   "cell_type": "code",
   "execution_count": 27,
   "metadata": {},
   "outputs": [],
   "source": [
    "#Below is an illustration on how to fire sql queries using apache spark's api\n",
    "\n",
    "from pyspark.sql import SparkSession\n",
    "from pyspark.sql import SQLContext\n",
    "from pyspark.sql import Row\n",
    "spark = SparkSession.builder.getOrCreate()\n",
    "sqlContext = SQLContext(sc)\n",
    "house = [('Living_Room',25),('Bed_Room',22),('Kitchen',20),('Bathroom',11)]\n",
    "rdd = sc.parallelize(house)\n",
    "House = rdd.map(lambda x: Row(room=x[0], areasqm=int(x[1])))\n",
    "schemaHouse = sqlContext.createDataFrame(House)\n",
    "schemaHouse.createOrReplaceTempView('house')\n"
   ]
  },
  {
   "cell_type": "code",
   "execution_count": 45,
   "metadata": {},
   "outputs": [
    {
     "data": {
      "text/plain": [
       "11"
      ]
     },
     "execution_count": 45,
     "metadata": {},
     "output_type": "execute_result"
    }
   ],
   "source": [
    "#returns the minimum areasqm\n",
    "def MinValue (df,spark): \n",
    "    return spark.sql(\"SELECT MIN(areasqm) as minarea from house\").first().minarea\n",
    "MinValue(House,spark)"
   ]
  },
  {
   "cell_type": "code",
   "execution_count": 37,
   "metadata": {},
   "outputs": [
    {
     "data": {
      "text/plain": [
       "25"
      ]
     },
     "execution_count": 37,
     "metadata": {},
     "output_type": "execute_result"
    }
   ],
   "source": [
    "#returns the maximum areasqm\n",
    "def MaxValue (df,spark): \n",
    "    return spark.sql(\"SELECT MAX(areasqm) as maxarea from house\").first().maxarea\n",
    "MaxValue(House,spark)"
   ]
  },
  {
   "cell_type": "code",
   "execution_count": 41,
   "metadata": {},
   "outputs": [],
   "source": [
    "#returns the mean areasqm\n",
    "def MeanValue(df,spark):\n",
    "    return spark.sql(\"SELECT Avg(areasqm) as avg from house\").first().avg"
   ]
  },
  {
   "cell_type": "code",
   "execution_count": 42,
   "metadata": {},
   "outputs": [],
   "source": [
    "#calculate standard deviation of the areasqm\n",
    "def sdTemperature(df,spark):\n",
    "    return spark.sql(\"SELECT stddev_pop(areasqn) as sdtarea from house\").first().sdarea"
   ]
  },
  {
   "cell_type": "code",
   "execution_count": 43,
   "metadata": {},
   "outputs": [],
   "source": [
    "#returns the Skewness of the areasqm\n",
    "def skewArea(df, spark):\n",
    "    \n",
    "    return spark.sql(\"\"\"\n",
    "SELECT \n",
    "    (\n",
    "        1/COUNT(areasqm)\n",
    "    ) *\n",
    "    SUM (\n",
    "        POWER(areasqm-%s,3)/POWER(%s,3)\n",
    "    )\n",
    "\n",
    "as skarea from house\n",
    "                    \"\"\" %(MeanValue(df,spark),sdTemperature(df,spark))).first().sktemperature"
   ]
  },
  {
   "cell_type": "code",
   "execution_count": 44,
   "metadata": {},
   "outputs": [],
   "source": [
    "#returns the Kurtosis of the areasqm\n",
    "def kurtosisArea(df,spark):    \n",
    "        return spark.sql(\"\"\"\n",
    "SELECT \n",
    "    (\n",
    "        1/ COUNT(areasqm)\n",
    "    ) *\n",
    "    SUM (\n",
    "        POWER(areasqm-%s,4)/POWER(%s,4)\n",
    "    )\n",
    "as karea from house\n",
    "                    \"\"\" %(MeanValue(df,spark),sdTemperature(df,spark))).first().ktemperature"
   ]
  }
 ],
 "metadata": {
  "kernelspec": {
   "display_name": "Python 3.5 with Spark",
   "language": "python3",
   "name": "python3"
  },
  "language_info": {
   "codemirror_mode": {
    "name": "ipython",
    "version": 3
   },
   "file_extension": ".py",
   "mimetype": "text/x-python",
   "name": "python",
   "nbconvert_exporter": "python",
   "pygments_lexer": "ipython3",
   "version": "3.5.4"
  }
 },
 "nbformat": 4,
 "nbformat_minor": 1
}
